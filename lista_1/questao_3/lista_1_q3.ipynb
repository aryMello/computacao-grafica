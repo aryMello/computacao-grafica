{
 "cells": [
  {
   "cell_type": "markdown",
   "id": "92cf7c85",
   "metadata": {},
   "source": [
    "## 3. Seja o R³, espaço tridimensional afim e nele, deseja-se animar com operadores afins um pião, com o bico inicialmente em (1,2,0), de modo que ele gire em torno do eixo 𝑟 = {(𝑥, 𝑦, 𝑧) ∈ 𝑅³|𝑥 = 1 + 𝑞, 2 − 𝑞, 0}, dando 4 voltas em torno de r a cada t segundos. E enquanto o pião gira em torno r, r gira em torno de 𝑠 = {(𝑥, 𝑦, 𝑧) ∈ 𝑅³|𝑥 = 2 𝑒 𝑦 = 1}, dando uma volta a cada t segundos. Considere um valor apropriado de t"
   ]
  },
  {
   "cell_type": "code",
   "execution_count": null,
   "id": "0cbd58b3",
   "metadata": {},
   "outputs": [],
   "source": []
  },
  {
   "cell_type": "markdown",
   "id": "392b1490",
   "metadata": {},
   "source": [
    "## Exiba as matrizes de operadores afins parametrizados em função do tempo."
   ]
  },
  {
   "cell_type": "code",
   "execution_count": null,
   "id": "480e26c0",
   "metadata": {},
   "outputs": [],
   "source": []
  },
  {
   "cell_type": "markdown",
   "id": "a02c64bb",
   "metadata": {},
   "source": [
    "## E simule um pião executando as operações definidas. De preferência, marcar um ponto na frente do pião pra acompanhar a rotação torna a tarefa mais fácil"
   ]
  },
  {
   "cell_type": "code",
   "execution_count": null,
   "id": "4e5b91b3",
   "metadata": {},
   "outputs": [],
   "source": []
  }
 ],
 "metadata": {
  "kernelspec": {
   "display_name": "Python 3",
   "language": "python",
   "name": "python3"
  },
  "language_info": {
   "name": "python",
   "version": "3.12.1"
  }
 },
 "nbformat": 4,
 "nbformat_minor": 5
}
