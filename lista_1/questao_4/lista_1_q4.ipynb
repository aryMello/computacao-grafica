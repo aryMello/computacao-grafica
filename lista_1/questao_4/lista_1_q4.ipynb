{
 "cells": [
  {
   "cell_type": "markdown",
   "id": "d4cf4192",
   "metadata": {},
   "source": [
    "## 4. Isneique, uma entidade 4D que vive a maior parte do tempo no complemento do nosso R³ em relação ao R⁴, aparece raramente no nosso hiperplano com a forma de uma “serpente”. Considere a fenda espacial que ela utiliza para se projetar no nosso R³ delimitada pelos planos 𝐴 = − 2𝑥 + 𝑦 − 𝑧 = 1 e 𝐵 = 𝑦 + 𝑧 = 1, . \n",
    "\n",
    "## Sempre que Isneique passa por um plano, ela é refletida em relação ao plano 𝐶 = {(𝑥, 𝑦, 𝑧)| (0, 1, 0) + 𝑞(− 2, 1 + 3, 1 − 3) + 𝑝(− 1, − 1, 1)} . Deseja-se animar a sua passagem pela nossa humilde dimensão da seguinte forma: a serpente sempre invade o nosso espaço num movimento espiral em torno do eixo 𝐷 = (− 𝑡, 1 − 𝑡, 𝑡), com fator de translação do eixo (no sentido do eixo) de de 2 a cada volta e sempre que passa por um dos planos da fenda A ou B, é refletido em relação ao plano C, continuando seu movimento espiral em torno de D. "
   ]
  },
  {
   "cell_type": "markdown",
   "id": "73c41419",
   "metadata": {},
   "source": [
    "## a) Exiba as matrizes em coordenadas homogêneas e na ordem correta pra realizar a animação desse movimento. Simule o movimento da “serpente”."
   ]
  },
  {
   "cell_type": "markdown",
   "id": "6bafd778",
   "metadata": {},
   "source": [
    "## b) Que adaptações seriam necessárias, caso os planos da fenda A e B começassem a rotacionar em torno de D com a mesma velocidade angular ω, A no sentido H e B no sentido AH? Explique com suas palavras"
   ]
  }
 ],
 "metadata": {
  "language_info": {
   "name": "python"
  }
 },
 "nbformat": 4,
 "nbformat_minor": 5
}
